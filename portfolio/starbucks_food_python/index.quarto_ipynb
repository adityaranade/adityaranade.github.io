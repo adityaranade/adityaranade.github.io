{
  "cells": [
    {
      "cell_type": "markdown",
      "metadata": {},
      "source": [
        "---\n",
        "title: \"Starbucks food nutritional information\"\n",
        "subtitle: \"We all like starbucks food, but what about the nutritional value of them?\"\n",
        "author: \"Aditya Ranade\"\n",
        "highlight-style: github-light\n",
        "date: \"2025-01-23\"\n",
        "categories: [analysis, python]\n",
        "image: \"./starbucks_food.jpg\"\n",
        "jupyter: python3\n",
        "---\n",
        "\n",
        "\n",
        "::: {style=\"text-align: justify\"}\n",
        "Starbucks is one of the most valued coffee chain in the world. A lot of people like to consume the food available at starbucks. But how good are they in terms of the nutritional value?\n",
        ":::\n",
        "\n",
        "::: {style=\"text-align: justify\"}\n",
        "I found this dataset on Kaggle which gives the nutritional information about their food products. In my precious post, I built a multiple linear regression model to predict the calories in beverage based on the nutritional contents of the beverage. Now we will try to do the same for the food products.\n",
        "\n",
        "First, we look at the exploratory data analysis and later try some simple regression models. First let us access and process the data through python\n",
        ":::\n"
      ],
      "id": "cb1f26fd"
    },
    {
      "cell_type": "code",
      "metadata": {},
      "source": [
        "#| label: load-packages\n",
        "#| echo: true\n",
        "#| warning: false\n",
        "#| include: true\n",
        "\n",
        "# Load Libraries\n",
        "import pandas as pd # data processing, CSV file I/O (e.g. pd.read_csv)\n",
        "from plotnine import * # for plots\n",
        "import numpy as np # linear algebra\n",
        "import matplotlib.pyplot as plt\n",
        "import seaborn as sns\n",
        "import statsmodels.formula.api as smf\n",
        "import random\n",
        "from scipy.stats import pearsonr\n",
        "\n",
        "# Get starbucks data from github repo\n",
        "path = \"https://raw.githubusercontent.com//adityaranade//portfolio//refs//heads//main//starbucks//starbucks-menu-nutrition-food.csv\"\n",
        "df0=pd.read_csv(path, encoding='unicode_escape')\n",
        "\n",
        "df0.head()"
      ],
      "id": "load-packages",
      "execution_count": null,
      "outputs": []
    },
    {
      "cell_type": "code",
      "metadata": {},
      "source": [
        "#| label: data_processing1\n",
        "#| echo: true\n",
        "#| warning: false\n",
        "#| include: true\n",
        "\n",
        "#modify the column names\n",
        "df0.columns = ['name', 'calories','fat','carbs','fiber','protein']\n",
        "df0.head()\n",
        "\n",
        "#convert data type to float for all the columns except name\n",
        "for i in df0.columns[1:]:\n",
        "    df0[i]=df0[i].astype(\"float\")\n",
        "# df0.info()"
      ],
      "id": "data_processing1",
      "execution_count": null,
      "outputs": []
    },
    {
      "cell_type": "code",
      "metadata": {},
      "source": [
        "#| label: data_processing2\n",
        "#| echo: true\n",
        "#| warning: false\n",
        "#| include: true\n",
        "\n",
        "df = df0\n",
        "# Use melt function for the histograms\n",
        "df2 = pd.melt(df, id_vars=['name'])\n",
        "# df2.head()"
      ],
      "id": "data_processing2",
      "execution_count": null,
      "outputs": []
    },
    {
      "cell_type": "markdown",
      "metadata": {},
      "source": [
        "::: {style=\"text-align: justify\"}\n",
        "Now that we have the data ready, let us look at the histogram of each variables namely calories, fat, carbs, fiber, protein and sodium\n",
        ":::\n"
      ],
      "id": "47386a4a"
    },
    {
      "cell_type": "code",
      "metadata": {},
      "source": [
        "#| label: EDA\n",
        "#| echo: true\n",
        "#| warning: false\n",
        "#| include: true\n",
        "\n",
        "p = (\n",
        "    ggplot(df2, aes(\"value\"))\n",
        "    + geom_histogram(bins=15)\n",
        "    + facet_grid(\". ~ variable\", scales='free_x')\n",
        "    )\n",
        "\n",
        "p.show()"
      ],
      "id": "EDA",
      "execution_count": null,
      "outputs": []
    },
    {
      "cell_type": "markdown",
      "metadata": {},
      "source": [
        "The histogram of each of the variables do not show any problems as all the plots look decent. We will look at the correlation plot.\n"
      ],
      "id": "29730b4e"
    },
    {
      "cell_type": "code",
      "metadata": {},
      "source": [
        "#| label: EDA2\n",
        "#| echo: true\n",
        "#| warning: false\n",
        "#| include: true\n",
        "# Check the correlation between the variables\n",
        "# plt.figure(figsize=(20,7))\n",
        "sns.heatmap(df.iloc[:,1:].corr(),annot=True)\n",
        "plt.show()"
      ],
      "id": "EDA2",
      "execution_count": null,
      "outputs": []
    },
    {
      "cell_type": "markdown",
      "metadata": {},
      "source": [
        "::: {style=\"text-align: justify\"}\n",
        "Correlation plot indicates positive association between all the variables which is desired. Now we will look at the pairs plot which will show the pairwise histogram.\n",
        ":::\n"
      ],
      "id": "3b8dcdc8"
    },
    {
      "cell_type": "code",
      "metadata": {},
      "source": [
        "#| label: test\n",
        "#| echo: false\n",
        "#| warning: false\n",
        "#| include: false\n",
        "\n",
        "# def reg_coef(x,y,label=None,color=None,hue=None,**kwargs):\n",
        "#     ax = plt.gca()\n",
        "#     r,p = pearsonr(x,y)\n",
        "#     ax.annotate('r = {:.2f}'.format(r), xy=(0.5,0.5), xycoords='axes fraction', ha='center')\n",
        "#     ax.set_axis_off()\n",
        "# \n",
        "# g = sns.PairGrid(df.iloc[:,1:])\n",
        "# g.map_diag(sns.histplot)\n",
        "# g.map_upper(sns.scatterplot)\n",
        "# g.map_lower(reg_coef, hue=None)\n",
        "# g.add_legend()\n",
        "# plt.show()"
      ],
      "id": "test",
      "execution_count": null,
      "outputs": []
    },
    {
      "cell_type": "code",
      "metadata": {},
      "source": [
        "#| label: EDA3\n",
        "#| echo: true\n",
        "#| warning: false\n",
        "#| include: true\n",
        "\n",
        "# Pairs plot\n",
        "g = sns.PairGrid(df.iloc[:,1:])\n",
        "g.map_diag(sns.histplot)\n",
        "g.map_upper(sns.scatterplot)\n",
        "g.map_lower(sns.kdeplot)\n",
        "plt.show()"
      ],
      "id": "EDA3",
      "execution_count": null,
      "outputs": []
    },
    {
      "cell_type": "markdown",
      "metadata": {},
      "source": [
        "::: {style=\"text-align: justify\"}\n",
        "The scatterplots of each variable with calories which can be seen in the upper triangular plots in the very first row. It seems there is a linear association between calories and fat, carbs and protein. However, it does not seem to have a linear association with fiber.\n",
        ":::\n"
      ],
      "id": "784594b9"
    },
    {
      "cell_type": "code",
      "metadata": {},
      "source": [
        "#| label: mlr_train\n",
        "#| echo: true\n",
        "#| warning: false\n",
        "#| include: true\n",
        "\n",
        "# Split data into train and test set\n",
        "indices = range(len(df)) # Create a list of indices\n",
        "\n",
        "# Get 75% random indices for training data\n",
        "random.seed(23) # for repreducible example\n",
        "random_indices = random.sample(indices, round(0.75*len(df)))\n",
        "\n",
        "# Training dataset\n",
        "data_train = df.iloc[random_indices,]\n",
        "\n",
        "# Testing dataset\n",
        "data_test = df.iloc[df.index.difference(random_indices),]\n",
        "\n",
        "\n",
        "# Build a multiple linear regression model to predict calories using other variables using training data\n",
        "result = smf.ols(\"calories ~ fat + carbs + fiber + protein\", data = data_train).fit()\n",
        "# check the summary\n",
        "result.summary()"
      ],
      "id": "mlr_train",
      "execution_count": null,
      "outputs": []
    },
    {
      "cell_type": "markdown",
      "metadata": {},
      "source": [
        "::: {style=\"text-align: justify\"}\n",
        "Now let us make prediction on the testing data and plot the observed vs. predicted plot\n",
        ":::\n"
      ],
      "id": "8827bcd5"
    },
    {
      "cell_type": "code",
      "metadata": {},
      "source": [
        "#| label: prediction_test\n",
        "#| echo: true\n",
        "#| warning: false\n",
        "#| include: true\n",
        "\n",
        "# Make predictions using testing data\n",
        "predictions = result.predict(data_test)\n",
        "\n",
        "# Observed vs. Predicted plot\n",
        "plt.figure(figsize=(20,7))\n",
        "plt.scatter(predictions, data_test[\"calories\"])\n",
        "plt.ylabel(\"Observed calories\")\n",
        "plt.xlabel(\"Predicted calories\")\n",
        "# Create the abline\n",
        "x_line = np.linspace(min(data_test[\"calories\"]), max(data_test[\"calories\"]), 100)\n",
        "y_line = 1 * x_line + 1\n",
        "plt.plot(x_line, y_line, color='red')\n",
        "plt.show()"
      ],
      "id": "prediction_test",
      "execution_count": null,
      "outputs": []
    },
    {
      "cell_type": "markdown",
      "metadata": {},
      "source": [
        "::: {style=\"text-align: justify\"}\n",
        "The observed vs. predicted looks good. However there is low number of data points and hence we should take this with a grain of salt. Let us check some evaluation metrics like the Root Mean Squared Error (RMSE) and Mean Absolute Error (MAE).\n",
        ":::\n"
      ],
      "id": "2b234dbf"
    },
    {
      "cell_type": "code",
      "metadata": {},
      "source": [
        "from sklearn.metrics import mean_absolute_error,mean_squared_error\n",
        "print(\"Mean Absolute Error:\",round(mean_absolute_error(data_test[\"calories\"],predictions),2))\n",
        "print(\"Root Mean Squared Error:\",round((mean_squared_error(data_test[\"calories\"],predictions))** 0.5,2))"
      ],
      "id": "8c20cc23",
      "execution_count": null,
      "outputs": []
    },
    {
      "cell_type": "markdown",
      "metadata": {},
      "source": [
        "::: {style=\"text-align: justify\"}\n",
        "Root Mean Squared Error (RMSE) of 7.54 and Mean Absolute Error (MAE) of 10.7 is decent and indicates model is performing fairly well.\n",
        ":::"
      ],
      "id": "62f4904b"
    }
  ],
  "metadata": {
    "kernelspec": {
      "name": "python3",
      "language": "python",
      "display_name": "Python 3 (ipykernel)",
      "path": "C:\\Users\\adity\\AppData\\Local\\Programs\\Python\\Python313\\share\\jupyter\\kernels\\python3"
    }
  },
  "nbformat": 4,
  "nbformat_minor": 5
}